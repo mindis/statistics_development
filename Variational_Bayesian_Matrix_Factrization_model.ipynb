{
 "cells": [
  {
   "cell_type": "code",
   "execution_count": 1,
   "metadata": {
    "collapsed": true
   },
   "outputs": [],
   "source": [
    "#####欠損値のある変分ベイズ行列因子分解#####\n",
    "##ライブラリの読み込み\n",
    "import numpy as np\n",
    "import pandas as pd\n",
    "import matplotlib.pyplot  as plt\n",
    "import numpy.matlib\n",
    "import scipy\n",
    "import scipy.stats as ss\n",
    "from numpy.random import *\n",
    "from scipy import optimize\n",
    "from scipy.stats import norm"
   ]
  },
  {
   "cell_type": "code",
   "execution_count": 21,
   "metadata": {
    "collapsed": true
   },
   "outputs": [],
   "source": [
    "####データの発生####\n",
    "#np.random.seed(58732)   #シードを設定\n",
    "\n",
    "##データの設定\n",
    "k = 15   #基底数\n",
    "hh = 5000   #ユーザー数\n",
    "item = 1500   #アイテム数\n",
    "\n",
    "##パラメータの設定\n",
    "sigma = 1\n",
    "A = A_T = np.random.multivariate_normal(np.repeat(0, k), np.identity(k), hh)   #ユーザーの特徴行列\n",
    "B = B_T = np.random.multivariate_normal(np.repeat(0, k), np.identity(k), item)   #アイテムの特徴行列\n",
    "beta1 = np.random.beta(8.5, 10.0, hh)   #ユーザー購買確率\n",
    "beta2 = np.random.beta(5.0, 6.0, item)   #アイテム購買確率"
   ]
  },
  {
   "cell_type": "code",
   "execution_count": 22,
   "metadata": {},
   "outputs": [],
   "source": [
    "##モデルに基づき応答変数を生成\n",
    "AB = np.dot(A, B.T)\n",
    "Y = np.zeros((hh, item))\n",
    "Z = np.zeros((hh, item))\n",
    "\n",
    "for j in range(item):\n",
    "    #評価ベクトルを生成\n",
    "    y_vec = np.random.normal(AB[:, j], sigma, hh)   #正規分布から評価ベクトルを生成\n",
    "    \n",
    "    #欠損を生成\n",
    "    deficit = np.random.binomial(1, beta1 * beta2[j], hh)\n",
    "    Z[:, j] = deficit   #欠損を代入\n",
    "    \n",
    "    #評価ベクトルを代入\n",
    "    Y[:, j] = y_vec"
   ]
  },
  {
   "cell_type": "code",
   "execution_count": 84,
   "metadata": {},
   "outputs": [],
   "source": [
    "##IDと評価ベクトルを設定\n",
    "N = Z[Z==1].shape[0]\n",
    "user_id0 = (np.repeat(range(hh), item)+1)\n",
    "item_id0 = np.tile((np.array(range(item))+1), hh)\n",
    "\n",
    "#評価がある要素のみ抽出\n",
    "index_user = (np.ravel(Z).astype(np.int64)==1).nonzero()\n",
    "user_id = user_id0[index_user]\n",
    "item_id = item_id0[index_user]\n",
    "y_vec = np.ravel(Y)"
   ]
  },
  {
   "cell_type": "code",
   "execution_count": 90,
   "metadata": {},
   "outputs": [
    {
     "data": {
      "text/plain": [
       "array([ 7.70646047, -4.56220545,  2.05887155, ...,  3.7944655 ,\n",
       "       -0.11239441, -3.31082735])"
      ]
     },
     "execution_count": 90,
     "metadata": {},
     "output_type": "execute_result"
    }
   ],
   "source": []
  },
  {
   "cell_type": "code",
   "execution_count": 88,
   "metadata": {},
   "outputs": [
    {
     "data": {
      "text/plain": [
       "725.10617634111952"
      ]
     },
     "execution_count": 88,
     "metadata": {},
     "output_type": "execute_result"
    }
   ],
   "source": []
  },
  {
   "cell_type": "code",
   "execution_count": 80,
   "metadata": {},
   "outputs": [
    {
     "data": {
      "text/plain": [
       "array([ 242.,  369.,  275., ...,  249.,  402.,  308.])"
      ]
     },
     "execution_count": 80,
     "metadata": {},
     "output_type": "execute_result"
    }
   ],
   "source": [
    "np.sum(Z, axis=1)"
   ]
  },
  {
   "cell_type": "code",
   "execution_count": null,
   "metadata": {
    "collapsed": true
   },
   "outputs": [],
   "source": []
  }
 ],
 "metadata": {
  "kernelspec": {
   "display_name": "Python 3",
   "language": "python",
   "name": "python3"
  },
  "language_info": {
   "codemirror_mode": {
    "name": "ipython",
    "version": 3
   },
   "file_extension": ".py",
   "mimetype": "text/x-python",
   "name": "python",
   "nbconvert_exporter": "python",
   "pygments_lexer": "ipython3",
   "version": "3.6.3"
  }
 },
 "nbformat": 4,
 "nbformat_minor": 2
}
