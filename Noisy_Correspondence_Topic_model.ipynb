{
 "cells": [
  {
   "cell_type": "code",
   "execution_count": 33,
   "metadata": {},
   "outputs": [],
   "source": [
    "#####ノイズあり対応トピックモデル#####\n",
    "import numpy as np\n",
    "import pandas as pd\n",
    "import matplotlib.pyplot  as plt\n",
    "import numpy.matlib\n",
    "import scipy.linalg\n",
    "import gensim\n",
    "from scipy.special import gammaln\n",
    "from scipy.misc import factorial\n",
    "from pandas.tools.plotting import scatter_matrix\n",
    "from numpy.random import *\n",
    "from scipy import optimize\n",
    "import seaborn as sns\n",
    "import time\n",
    "\n",
    "####データの発生####\n",
    "##データの設定\n",
    "#文書の設定\n",
    "k = 15   #トピック数\n",
    "d = 3000   #文書数\n",
    "v  = 1000   #語彙数\n",
    "w = np.random.poisson(np.random.gamma(65, 1/0.5, d), d)   #1文書あたりの単語数\n",
    "a1 = 100   #トピックに関係のあるタグ数\n",
    "a2 = 50   #トピックに関係のないタグ数\n",
    "x = np.random.poisson(30, d)\n",
    "x[x < 2] = 3\n",
    "f1 = np.sum(w)\n",
    "f2 = np.sum(x)\n",
    "\n",
    "#IDの設定\n",
    "w_id = np.repeat(range(d), w)\n",
    "a_id = np.repeat(range(d), x)"
   ]
  },
  {
   "cell_type": "code",
   "execution_count": 37,
   "metadata": {},
   "outputs": [
    {
     "data": {
      "text/plain": [
       "0.7603203615687963"
      ]
     },
     "execution_count": 37,
     "metadata": {},
     "output_type": "execute_result"
    }
   ],
   "source": [
    "##パラメータの設定\n",
    "alpha0 = np.repeat(0.15, k)   #文書のディレクリ事前分布のパラメータ\n",
    "alpha1 = np.repeat(0.15, v)   #単語のディレクリ事前分布のパラメータ\n",
    "alpha2 = np.hstack((np.repeat(0.2, a1), np.repeat(0.001, a2)))   #トピックに関係のあるタグのディレクリ事前分布のパラメータ\n",
    "alpha3 = np.hstack((np.repeat(0.001, a1), np.repeat(0.2, 0.001)))   #トピックに関係のないタグのディリクレ事前分布のパラメータ\n",
    "beta0 = np.random.beta(0.55, 0.175, np.sum(x))"
   ]
  },
  {
   "cell_type": "code",
   "execution_count": 23,
   "metadata": {},
   "outputs": [
    {
     "data": {
      "text/plain": [
       "388668"
      ]
     },
     "execution_count": 23,
     "metadata": {},
     "output_type": "execute_result"
    }
   ],
   "source": [
    "##ディリクレ事前分布からパラメータを生成\n",
    "\n",
    "\n"
   ]
  },
  {
   "cell_type": "code",
   "execution_count": null,
   "metadata": {},
   "outputs": [],
   "source": []
  }
 ],
 "metadata": {
  "kernelspec": {
   "display_name": "Python 3",
   "language": "python",
   "name": "python3"
  },
  "language_info": {
   "codemirror_mode": {
    "name": "ipython",
    "version": 3
   },
   "file_extension": ".py",
   "mimetype": "text/x-python",
   "name": "python",
   "nbconvert_exporter": "python",
   "pygments_lexer": "ipython3",
   "version": "3.6.4"
  }
 },
 "nbformat": 4,
 "nbformat_minor": 2
}
