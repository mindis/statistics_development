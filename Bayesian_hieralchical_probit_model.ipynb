{
 "cells": [
  {
   "cell_type": "code",
   "execution_count": 150,
   "metadata": {},
   "outputs": [],
   "source": [
    "####階層ベイズプロビットモデル####\n",
    "import numpy as np\n",
    "import pandas as pd\n",
    "import matplotlib.pyplot  as plt\n",
    "import numpy.matlib\n",
    "import scipy\n",
    "from numpy.random import *\n",
    "from scipy import optimize\n",
    "from scipy.stats import norm"
   ]
  },
  {
   "cell_type": "code",
   "execution_count": 161,
   "metadata": {},
   "outputs": [],
   "source": [
    "####データの発生####\n",
    "#np.random.seed(8742)   #シードを設定\n",
    "\n",
    "##データの設定\n",
    "hh = 2000   #ユーザー数\n",
    "k = 7   #パラメータ数\n",
    "n = poisson(numpy.random.gamma(40, 1/1.5, hh), hh)   #1人あたりの観測数\n",
    "N = np.sum(n)"
   ]
  },
  {
   "cell_type": "code",
   "execution_count": 162,
   "metadata": {},
   "outputs": [],
   "source": [
    "##IDの設定\n",
    "u_list = [i for i in range(hh)]\n",
    "t_list = [i for i in range(hh)]\n",
    "u_id = np.zeros(N, dtype='int')\n",
    "t_id = np.zeros(N, dtype='int')\n",
    "start = 0\n",
    "\n",
    "for i in range(hh):\n",
    "    #リストに格納\n",
    "    u_list[i] = np.repeat(i, n[i])\n",
    "    t_list[i] = np.array(range(n[i]))+1\n",
    "    \n",
    "    #リストをベクトル変換\n",
    "    u_id[start:start+n[i]] = u_list[i]\n",
    "    t_id[start:start+n[i]] = t_list[i]\n",
    "    start += n[i] "
   ]
  },
  {
   "cell_type": "code",
   "execution_count": 185,
   "metadata": {},
   "outputs": [],
   "source": [
    "##説明変数の発生\n",
    "intercept = np.transpose(np.matlib.repmat(1, 1, N))\n",
    "Z1 = np.log(numpy.random.gamma(5, 1, N)) * numpy.random.binomial(1, 0.25, N)   #降水量の対数\n",
    "Z2 = numpy.random.uniform(0, 1, N)   #チラシ商品の平均値引率\n",
    "Z3 = np.log(numpy.random.poisson(numpy.random.gamma(25, 1/0.5, N)))   #チラシ掲載商品数の対数\n",
    "Z3 = Z3 - np.min(Z3)\n",
    "Z4 = numpy.random.binomial(1, 0.5, N)   #他店チラシ状況\n",
    "Z = np.concatenate((intercept, Z1[:, np.newaxis], Z2[:, np.newaxis], Z3[:, np.newaxis], Z4[:, np.newaxis]), axis=1)   #データの結合"
   ]
  },
  {
   "cell_type": "code",
   "execution_count": 186,
   "metadata": {},
   "outputs": [],
   "source": [
    "##パラメータの設定\n",
    "beta0 = numpy.random.normal(-0.4, 0.4, hh)\n",
    "beta1 = numpy.random.normal(-0.5, 0.3, hh)\n",
    "beta2 = numpy.random.normal(0.5, 0.25, hh)\n",
    "beta3 = numpy.random.normal(0.3, 0.25, hh)\n",
    "beta4 = numpy.random.normal(-0.6, 0.2, hh)\n",
    "beta = np.concatenate((beta0[:, np.newaxis], beta1[:, np.newaxis], beta2[:, np.newaxis], beta3[:, np.newaxis],\n",
    "                       beta4[:, np.newaxis]), axis=1)   #回帰係数の結合"
   ]
  },
  {
   "cell_type": "code",
   "execution_count": 187,
   "metadata": {},
   "outputs": [
    {
     "data": {
      "text/plain": [
       "0.42095384673135755"
      ]
     },
     "execution_count": 187,
     "metadata": {},
     "output_type": "execute_result"
    }
   ],
   "source": [
    "##応答変数の発生\n",
    "mu = np.sum(Z * beta[u_id, :], axis=1)   #潜在効用の平均構造\n",
    "U = numpy.random.normal(mu, 1, N)   #潜在効用を生成\n",
    "y = (U >= 0)*1 + (U < 0)*0   #購買有無に変換\n",
    "np.mean(y)"
   ]
  },
  {
   "cell_type": "code",
   "execution_count": 202,
   "metadata": {},
   "outputs": [],
   "source": [
    "####マルコフ連鎖モンテカルロ法で階層ベイズプロビットモデルを推定####\n",
    "##切断正規分布の乱数を発生させる関数\n",
    "def rtnorm(mu, sigma, a, b, n):\n",
    "    FA = norm.cdf(a, mu, sigma)\n",
    "    FB = norm.cdf(b, mu, sigma)\n",
    "    return norm.ppf(uniform(0, 1, n)*(FB-FA)+FA, mu, sigma)"
   ]
  },
  {
   "cell_type": "code",
   "execution_count": 223,
   "metadata": {},
   "outputs": [],
   "source": [
    "##アルゴリズムの設定\n",
    "R = 10000\n",
    "keep = 4\n",
    "burnin = int(R / 4)\n",
    "disp = 8\n",
    "iter = 0\n",
    "k = Z.shape[1]"
   ]
  },
  {
   "cell_type": "code",
   "execution_count": 222,
   "metadata": {},
   "outputs": [
    {
     "data": {
      "text/plain": [
       "5"
      ]
     },
     "execution_count": 222,
     "metadata": {},
     "output_type": "execute_result"
    }
   ],
   "source": []
  },
  {
   "cell_type": "code",
   "execution_count": 214,
   "metadata": {},
   "outputs": [
    {
     "data": {
      "text/plain": [
       "1.6410317562722487"
      ]
     },
     "execution_count": 214,
     "metadata": {},
     "output_type": "execute_result"
    }
   ],
   "source": [
    "np.mean(rtnorm(1.5, 1, 0, 100, 100000))"
   ]
  },
  {
   "cell_type": "code",
   "execution_count": null,
   "metadata": {
    "collapsed": true
   },
   "outputs": [],
   "source": []
  }
 ],
 "metadata": {
  "kernelspec": {
   "display_name": "Python 3",
   "language": "python",
   "name": "python3"
  },
  "language_info": {
   "codemirror_mode": {
    "name": "ipython",
    "version": 3
   },
   "file_extension": ".py",
   "mimetype": "text/x-python",
   "name": "python",
   "nbconvert_exporter": "python",
   "pygments_lexer": "ipython3",
   "version": "3.6.3"
  }
 },
 "nbformat": 4,
 "nbformat_minor": 2
}
