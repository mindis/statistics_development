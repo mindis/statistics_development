{
 "cells": [
  {
   "cell_type": "code",
   "execution_count": 3,
   "metadata": {
    "collapsed": true
   },
   "outputs": [],
   "source": [
    "####階層ベイズプロビットモデル####\n",
    "import numpy as np\n",
    "import pandas as pd\n",
    "import matplotlib.pyplot  as plt\n",
    "import numpy.matlib\n",
    "import scipy\n",
    "import scipy.stats as ss\n",
    "from numpy.random import *\n",
    "from scipy import optimize\n",
    "from scipy.stats import norm"
   ]
  },
  {
   "cell_type": "code",
   "execution_count": 4,
   "metadata": {
    "collapsed": true
   },
   "outputs": [],
   "source": [
    "####データの発生####\n",
    "#np.random.seed(8742)   #シードを設定\n",
    "\n",
    "##データの設定\n",
    "hh = 2000   #ユーザー数\n",
    "k = 7   #パラメータ数\n",
    "n = poisson(numpy.random.gamma(40, 1/1.5, hh), hh)   #1人あたりの観測数\n",
    "N = np.sum(n)"
   ]
  },
  {
   "cell_type": "code",
   "execution_count": 5,
   "metadata": {
    "collapsed": true
   },
   "outputs": [],
   "source": [
    "##IDの設定\n",
    "u_list = [i for i in range(hh)]\n",
    "t_list = [i for i in range(hh)]\n",
    "u_id = np.zeros(N, dtype='int')\n",
    "t_id = np.zeros(N, dtype='int')\n",
    "start = 0\n",
    "\n",
    "for i in range(hh):\n",
    "    #リストに格納\n",
    "    u_list[i] = np.repeat(i, n[i])\n",
    "    t_list[i] = np.array(range(n[i]))+1\n",
    "    \n",
    "    #リストをベクトル変換\n",
    "    u_id[start:start+n[i]] = u_list[i]\n",
    "    t_id[start:start+n[i]] = t_list[i]\n",
    "    start += n[i] "
   ]
  },
  {
   "cell_type": "code",
   "execution_count": 6,
   "metadata": {
    "collapsed": true
   },
   "outputs": [],
   "source": [
    "##説明変数の発生\n",
    "intercept = np.transpose(np.matlib.repmat(1, 1, N))\n",
    "Z1 = np.log(numpy.random.gamma(5, 1, N)) * numpy.random.binomial(1, 0.25, N)   #降水量の対数\n",
    "Z2 = numpy.random.uniform(0, 1, N)   #チラシ商品の平均値引率\n",
    "Z3 = np.log(numpy.random.poisson(numpy.random.gamma(25, 1/0.5, N)))   #チラシ掲載商品数の対数\n",
    "Z3 = Z3 - np.min(Z3)\n",
    "Z4 = numpy.random.binomial(1, 0.5, N)   #他店チラシ状況\n",
    "Z = np.concatenate((intercept, Z1[:, np.newaxis], Z2[:, np.newaxis], Z3[:, np.newaxis], Z4[:, np.newaxis]), axis=1)   #データの結合"
   ]
  },
  {
   "cell_type": "code",
   "execution_count": 7,
   "metadata": {
    "collapsed": true
   },
   "outputs": [],
   "source": [
    "##パラメータの設定\n",
    "beta0 = numpy.random.normal(-0.4, 0.4, hh)\n",
    "beta1 = numpy.random.normal(-0.5, 0.3, hh)\n",
    "beta2 = numpy.random.normal(0.5, 0.25, hh)\n",
    "beta3 = numpy.random.normal(0.3, 0.25, hh)\n",
    "beta4 = numpy.random.normal(-0.6, 0.2, hh)\n",
    "beta = betat = np.concatenate((beta0[:, np.newaxis], beta1[:, np.newaxis], beta2[:, np.newaxis], beta3[:, np.newaxis],\n",
    "                       beta4[:, np.newaxis]), axis=1)   #回帰係数の結合"
   ]
  },
  {
   "cell_type": "code",
   "execution_count": 8,
   "metadata": {},
   "outputs": [
    {
     "data": {
      "text/plain": [
       "0.41935605205747384"
      ]
     },
     "execution_count": 8,
     "metadata": {},
     "output_type": "execute_result"
    }
   ],
   "source": [
    "##応答変数の発生\n",
    "mu = np.sum(Z * beta[u_id, :], axis=1)   #潜在効用の平均構造\n",
    "U = numpy.random.normal(mu, 1, N)   #潜在効用を生成\n",
    "y = (U >= 0)*1 + (U < 0)*0   #購買有無に変換\n",
    "np.mean(y)"
   ]
  },
  {
   "cell_type": "code",
   "execution_count": 9,
   "metadata": {
    "collapsed": true
   },
   "outputs": [],
   "source": [
    "####マルコフ連鎖モンテカルロ法で階層ベイズプロビットモデルを推定####\n",
    "##切断正規分布の乱数を発生させる関数\n",
    "def rtnorm(mu, sigma, a, b, n):\n",
    "    FA = norm.cdf(a, mu, sigma)\n",
    "    FB = norm.cdf(b, mu, sigma)\n",
    "    return norm.ppf(uniform(0, 1, n)*(FB-FA)+FA, mu, sigma)"
   ]
  },
  {
   "cell_type": "code",
   "execution_count": 10,
   "metadata": {
    "collapsed": true
   },
   "outputs": [],
   "source": [
    "##アルゴリズムの設定\n",
    "R = 5000\n",
    "keep = 4\n",
    "burnin = int(1000/keep)\n",
    "disp = 8\n",
    "iter = 0\n",
    "k = Z.shape[1]\n",
    "\n",
    "##事前分布の設定\n",
    "#プロビットモデルの事前分布\n",
    "sigma = 1\n",
    "beta0 = 0\n",
    "tau0 = 1/100\n",
    "\n",
    "#階層モデルの事前分布\n",
    "Bbar = np.repeat(0, k)\n",
    "A = 0.01 * np.identity(k)\n",
    "nu = k*2\n",
    "V = nu * np.identity(k)"
   ]
  },
  {
   "cell_type": "code",
   "execution_count": 11,
   "metadata": {
    "collapsed": true
   },
   "outputs": [],
   "source": [
    "##初期値の設定\n",
    "#回帰係数の初期値\n",
    "beta_mu = np.dot(np.linalg.inv(np.dot(Z.T, Z)), np.dot(Z.T, y))\n",
    "beta = np.random.multivariate_normal(beta_mu, 0.1 * np.identity(k), hh)\n",
    "\n",
    "#階層モデルの初期値\n",
    "alpha = beta_mu\n",
    "Cov = 0.1 * np.identity(k)\n",
    "Cov_inv = np.linalg.inv(Cov)"
   ]
  },
  {
   "cell_type": "code",
   "execution_count": 18,
   "metadata": {
    "collapsed": true
   },
   "outputs": [],
   "source": [
    "##パラメータ格納用配列\n",
    "BETA = np.zeros((hh, k, int(R/keep)))\n",
    "ALPHA = np.zeros((int(R/keep), k))\n",
    "COV = np.zeros((k, k, int(R/keep)))\n",
    "\n",
    "##インデックスを作成\n",
    "index = np.array(range(N))\n",
    "index_u = [i for i in range(hh)]\n",
    "\n",
    "for i in range(hh):\n",
    "    index_u[i] = index[u_id==i]\n",
    "\n",
    "##切断領域を定義\n",
    "a = (1-y)*(-100) + y*0\n",
    "b = y*100 + (1-y)*0\n",
    "\n",
    "##定数を設定\n",
    "XX = [i for i in range(hh)]\n",
    "XX_inv = [i for i in range(hh)]\n",
    "for i in range(hh):\n",
    "    index = index_u[i]\n",
    "    XX[i] = np.dot(Z[index, :].T, Z[index, :])"
   ]
  },
  {
   "cell_type": "code",
   "execution_count": 21,
   "metadata": {},
   "outputs": [
    {
     "data": {
      "text/plain": [
       "array([[-0.54088245, -0.        ,  0.04338085,  0.68632134, -0.45731496],\n",
       "       [-0.54088245, -0.        ,  0.0130131 ,  1.14935258, -0.        ],\n",
       "       [-0.54088245, -0.        ,  0.04688702,  1.29858047, -0.45731496],\n",
       "       ..., \n",
       "       [-1.52897806, -1.43628732, -0.02592791,  0.54018705,  0.        ],\n",
       "       [-1.52897806, -0.        , -0.10648447,  0.57568837,  0.        ],\n",
       "       [-1.52897806, -0.        , -0.00333871,  0.51504548,  0.        ]])"
      ]
     },
     "execution_count": 21,
     "metadata": {},
     "output_type": "execute_result"
    }
   ],
   "source": [
    "####ギブスサンプリングでパラメータをサンプリング####\n",
    "##切断正規分布から潜在効用を生成\n",
    "mu = Z * beta[u_id, :]   #潜在効用の平均構造\n",
    "U = rtnorm(mu, sigma, a, b, N)   #潜在効用を生成\n",
    "\n",
    "##個人別にbetaをサンプリング\n",
    "\n"
   ]
  },
  {
   "cell_type": "code",
   "execution_count": 17,
   "metadata": {},
   "outputs": [
    {
     "data": {
      "text/plain": [
       "array([[-0.45917573, -0.13722834,  0.60844775,  0.38956425, -0.51169244],\n",
       "       [-0.73758392, -1.09115429,  0.8939035 ,  0.40263903, -1.13042926],\n",
       "       [-0.42083973,  0.22551533, -0.29366546, -0.32429266,  0.0123086 ],\n",
       "       ..., \n",
       "       [-0.14054832, -0.22709649,  0.77222094,  0.56466766, -0.78025445],\n",
       "       [-0.73192676, -0.89120465,  0.77204001,  0.90197378, -0.83019372],\n",
       "       [-0.68311053, -0.85419368,  0.3979096 ,  0.3155925 , -0.5519091 ]])"
      ]
     },
     "execution_count": 17,
     "metadata": {},
     "output_type": "execute_result"
    }
   ],
   "source": [
    "np.mean(BETA, axis=2)"
   ]
  },
  {
   "cell_type": "code",
   "execution_count": 356,
   "metadata": {},
   "outputs": [
    {
     "data": {
      "text/plain": [
       "array([[ 0.25634946, -0.22395765,  0.16446298, -0.00753195, -0.29143252]])"
      ]
     },
     "execution_count": 356,
     "metadata": {},
     "output_type": "execute_result"
    }
   ],
   "source": [
    "np.random.multivariate_normal(alpha_mu, Cov/(hh + tau0), 1)"
   ]
  },
  {
   "cell_type": "code",
   "execution_count": 282,
   "metadata": {},
   "outputs": [
    {
     "name": "stdout",
     "output_type": "stream",
     "text": [
      "0\n",
      "0.315393440713\n",
      "0.684606559287\n"
     ]
    }
   ],
   "source": [
    "i = 3\n",
    "print(y[i])\n",
    "print(norm.cdf(mu[i], 0, sigma))\n",
    "print(scipy.stats.binom.pmf(y[i], 1, norm.cdf(mu[i], 0, sigma)))"
   ]
  }
 ],
 "metadata": {
  "kernelspec": {
   "display_name": "Python 3",
   "language": "python",
   "name": "python3"
  },
  "language_info": {
   "codemirror_mode": {
    "name": "ipython",
    "version": 3
   },
   "file_extension": ".py",
   "mimetype": "text/x-python",
   "name": "python",
   "nbconvert_exporter": "python",
   "pygments_lexer": "ipython3",
   "version": "3.6.3"
  }
 },
 "nbformat": 4,
 "nbformat_minor": 2
}
