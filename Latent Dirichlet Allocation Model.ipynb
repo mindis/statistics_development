{
 "cells": [
  {
   "cell_type": "code",
   "execution_count": 3,
   "metadata": {
    "collapsed": true
   },
   "outputs": [],
   "source": [
    "#####Latent Dirichlet Allocation Model#####\n",
    "import numpy as np\n",
    "import pandas as pd\n",
    "import matplotlib.pyplot  as plt\n",
    "import numpy.matlib\n",
    "import scipy.linalg\n",
    "from scipy.special import gammaln\n",
    "from scipy.misc import factorial\n",
    "from pandas.tools.plotting import scatter_matrix\n",
    "from numpy.random import *\n",
    "from scipy import optimize\n",
    "import seaborn as sns\n",
    "\n",
    "####データの発生####\n",
    "##データの設定\n",
    "k = 10   #トピック数\n",
    "d = 2000   #文書数\n",
    "v  = 400   #語彙数\n",
    "w = poisson(200, d)   #1文書あたりの単語数\n",
    "f = sum(w)   #総単語数"
   ]
  },
  {
   "cell_type": "code",
   "execution_count": 4,
   "metadata": {
    "collapsed": true
   },
   "outputs": [],
   "source": [
    "##パラメータの設定\n",
    "#ディレクリ分布のパラメータの設定\n",
    "alpha0 = np.repeat(0.3, k)   #文書のディレリ事前分布のパラメータ\n",
    "alpha1 = np.repeat(0.25, v)   #単語のディレクリ事前分布のパラメータ\n",
    "\n",
    "#ディレクリ分布からパラメータを発生\n",
    "thetat = theta = np.random.dirichlet(alpha0, d)   #文書のトピック分布をディレクリ乱数から発生\n",
    "phit = phi = np.random.dirichlet(alpha1, k)    #単語のトピック分布をデレクレリ乱数から発生"
   ]
  },
  {
   "cell_type": "code",
   "execution_count": 5,
   "metadata": {
    "collapsed": true
   },
   "outputs": [],
   "source": [
    "##多項分布より単語頻度行列を生成\n",
    "WX = np.zeros((d, v), dtype='int')\n",
    "Z = [i for i in range(d)]\n",
    "vec = np.arange(0, k)\n",
    "\n",
    "for i in range(d):\n",
    "    #文書のトピックを生成\n",
    "    z = multinomial(1, theta[i, :], w[i])   #文書のトピック分布を発生\n",
    "    z_vec = np.dot(z, vec)\n",
    "\n",
    "    #トピック割当から単語を生成\n",
    "    word = np.zeros((w[i], v))\n",
    "    for j in range(w[i]):\n",
    "        word[j, :] = multinomial(1, phi[z_vec[j], :], 1)\n",
    "\n",
    "    WX[i, :] = np.sum(word, axis=0)\n",
    "    Z[i] = z_vec"
   ]
  },
  {
   "cell_type": "code",
   "execution_count": 6,
   "metadata": {
    "collapsed": true
   },
   "outputs": [],
   "source": [
    "####トピックモデルのためのデータと関数の準備####\n",
    "##それぞれの文書中の単語の出現をベクトルに並べる\n",
    "##データ推定用IDを作成\n",
    "ID_list = [i for i in range(d)]\n",
    "wd_list = [i for i in range(d)]\n",
    "\n",
    "#文書ごとに求人IDおよび単語IDを作成\n",
    "for i in range(d):\n",
    "    ID_list[i] = np.repeat(i, w[i])\n",
    "    num1 = (WX[i, :] > 0) * np.arange(1, v+1)\n",
    "    num2 = num1[num1!=0]\n",
    "    W1 = WX[i, WX[i, :] > 0]\n",
    "    number = np.repeat(num2, W1)\n",
    "    wd_list[i] = number\n",
    "\n",
    "#リストをベクトル変換\n",
    "wd = np.zeros(sum(w), dtype='int')\n",
    "ID_d = np.zeros(sum(w), dtype='int')\n",
    "start = 0\n",
    "\n",
    "for i in range(d):\n",
    "    wd[start:start+w[i]] = wd_list[i] - 1\n",
    "    ID_d[start:start+w[i]] = ID_list[i]\n",
    "    start += w[i] "
   ]
  },
  {
   "cell_type": "code",
   "execution_count": 7,
   "metadata": {
    "collapsed": true
   },
   "outputs": [],
   "source": [
    "##インデックスを作成\n",
    "doc_list = [i for i in range(d)]\n",
    "word_list = [i for i in range(v)]\n",
    "index = np.array(range(f))\n",
    "\n",
    "for i in range(d):\n",
    "    doc_list[i] = index[ID_d==i]\n",
    "for i in range(v):\n",
    "    word_list[i] = index[wd==i]"
   ]
  },
  {
   "cell_type": "code",
   "execution_count": 8,
   "metadata": {
    "collapsed": true
   },
   "outputs": [],
   "source": [
    "####マルコフ連鎖モンテカルロ法でLDAのパラメータをサンプリング####\n",
    "##単語ごとに尤度と負担率を計算する関数\n",
    "def burden_fr(f, theta, phi, wd, w, k):\n",
    "    Bur = np.zeros((f, k))\n",
    "    Bur0 = np.zeros((f, k))\n",
    "\n",
    "    #負担係数を計算\n",
    "    for j in range(k):\n",
    "        Bi = np.repeat(theta[:, j], w) * phi[j, wd]\n",
    "        Bur[:, j] = Bi\n",
    "\n",
    "    #負担率の分母部分\n",
    "    Bur_sums = np.sum(Bur, axis=1)\n",
    "    for l in range(k):\n",
    "        Bur0[:, l] = Bur_sums \n",
    "\n",
    "    #負担率と混合率を計算\n",
    "    Br = Bur / Bur0   #負担率の計算\n",
    "    r = np.sum(Br, axis=0) / np.sum(Br)   #混合率の計算\n",
    "    return Br, Bur, r"
   ]
  },
  {
   "cell_type": "code",
   "execution_count": 9,
   "metadata": {
    "collapsed": true
   },
   "outputs": [],
   "source": [
    "##アルゴリズムの設定\n",
    "R = 10000\n",
    "keep = 2\n",
    "iter = 0 \n",
    "disp =10"
   ]
  },
  {
   "cell_type": "code",
   "execution_count": 10,
   "metadata": {
    "collapsed": true
   },
   "outputs": [],
   "source": [
    "##事前分布の設定\n",
    "alpha1 = 1.0 \n",
    "beta1 = 0.5"
   ]
  },
  {
   "cell_type": "code",
   "execution_count": 11,
   "metadata": {
    "collapsed": true
   },
   "outputs": [],
   "source": [
    "##パラメータの初期値\n",
    "mu = np.sum(WX, axis=0)/np.sum(WX)\n",
    "phi = np.random.dirichlet(np.repeat(mu*100, v), k)\n",
    "theta = np.random.dirichlet(np.repeat(5, k), d)"
   ]
  },
  {
   "cell_type": "code",
   "execution_count": 12,
   "metadata": {
    "collapsed": true
   },
   "outputs": [],
   "source": [
    "##パラメータの保存用配列\n",
    "THETA = np.zeros((d, k, R//keep), dtype='int')\n",
    "PHI = np.zeros((k, v, R//keep), dtype='int')\n",
    "SEG = np.zeros((f, k), dtype='int')"
   ]
  },
  {
   "cell_type": "code",
   "execution_count": 16,
   "metadata": {
    "collapsed": true
   },
   "outputs": [],
   "source": [
    "####ギブスサンプリングでパラメータをサンプリング####\n",
    "out = burden_fr(f, theta, phi, wd, w, k)\n",
    "Br = out[0]\n",
    "r = out[2]"
   ]
  },
  {
   "cell_type": "code",
   "execution_count": 18,
   "metadata": {
    "collapsed": true
   },
   "outputs": [],
   "source": [
    "for i in range(f):\n",
    "    multinomial(1, Br[i, :], 1)"
   ]
  },
  {
   "cell_type": "code",
   "execution_count": 131,
   "metadata": {},
   "outputs": [
    {
     "data": {
      "text/plain": [
       "array([ 0.98645436,  0.22496953,  0.23050976, ...,  0.53068299,\n",
       "        0.98614637,  0.87151505])"
      ]
     },
     "execution_count": 131,
     "metadata": {},
     "output_type": "execute_result"
    }
   ],
   "source": [
    "word_cumsum = np.cumsum(Br, axis=0)\n",
    " = np.random.rand(f)"
   ]
  },
  {
   "cell_type": "code",
   "execution_count": 144,
   "metadata": {},
   "outputs": [
    {
     "data": {
      "text/plain": [
       "(10, 400582)"
      ]
     },
     "execution_count": 144,
     "metadata": {},
     "output_type": "execute_result"
    }
   ],
   "source": [
    "np.matlib.repmat(np.random.rand(f), k, 1).shape"
   ]
  },
  {
   "cell_type": "code",
   "execution_count": 24,
   "metadata": {},
   "outputs": [
    {
     "data": {
      "text/plain": [
       "'abc'"
      ]
     },
     "execution_count": 24,
     "metadata": {},
     "output_type": "execute_result"
    }
   ],
   "source": [
    "'abcde'[0:3]"
   ]
  },
  {
   "cell_type": "code",
   "execution_count": null,
   "metadata": {
    "collapsed": true
   },
   "outputs": [],
   "source": []
  }
 ],
 "metadata": {
  "kernelspec": {
   "display_name": "Python 3",
   "language": "python",
   "name": "python3"
  },
  "language_info": {
   "codemirror_mode": {
    "name": "ipython",
    "version": 3
   },
   "file_extension": ".py",
   "mimetype": "text/x-python",
   "name": "python",
   "nbconvert_exporter": "python",
   "pygments_lexer": "ipython3",
   "version": "3.6.3"
  }
 },
 "nbformat": 4,
 "nbformat_minor": 2
}
