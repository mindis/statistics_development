{
 "cells": [
  {
   "cell_type": "code",
   "execution_count": 142,
   "metadata": {},
   "outputs": [],
   "source": [
    "#####ベイジアン確率的ブロックモデル#####\n",
    "import numpy as np\n",
    "import pandas as pd\n",
    "import matplotlib.pyplot  as plt\n",
    "import numpy.matlib\n",
    "import scipy.linalg\n",
    "import gensim\n",
    "from scipy.special import gammaln\n",
    "from scipy.misc import factorial\n",
    "from pandas.tools.plotting import scatter_matrix\n",
    "from numpy.random import *\n",
    "from scipy import optimize\n",
    "import seaborn as sns\n",
    "import time"
   ]
  },
  {
   "cell_type": "code",
   "execution_count": 143,
   "metadata": {},
   "outputs": [
    {
     "name": "stdout",
     "output_type": "stream",
     "text": [
      "[0.1194 0.1192 0.1226 0.132  0.1222 0.1306 0.1106 0.1434]\n",
      "[0.1765 0.1565 0.1775 0.1445 0.166  0.179 ]\n"
     ]
    }
   ],
   "source": [
    "####データの発生####\n",
    "##データの設定\n",
    "N = 5000   #ユーザー数\n",
    "K = 2000   #アイテム数\n",
    "seg_u = 8   #ユーザーセグメント数\n",
    "seg_i = 6   #アイテムセグメント数\n",
    "\n",
    "##セグメントとパラメータを生成\n",
    "#ユーザーセグメントを生成\n",
    "alpha01 = np.repeat(100, seg_u)\n",
    "pi01 = np.random.dirichlet(alpha01, 1).reshape(seg_u)\n",
    "z01 = np.random.multinomial(1, pi01, N)\n",
    "z01_vec = np.dot(z01, range(seg_u))\n",
    "z1_cnt = np.sum(z01, axis=0)\n",
    "print(np.mean(z01, axis=0))\n",
    "\n",
    "#アイテムセグメントを生成\n",
    "alpha02 = np.repeat(100, seg_i)\n",
    "pi02 = np.random.dirichlet(alpha02, 1).reshape(seg_i)\n",
    "z02 = np.random.multinomial(1, pi02, K)\n",
    "z02_vec = np.dot(z02, range(seg_i))\n",
    "z2_cnt = np.sum(z02, axis=0)\n",
    "print(np.mean(z02, axis=0))\n",
    "\n",
    "#観測変数のパラメータの設定\n",
    "#ユーザーセグメント×アイテムセグメントのベータ事前分布のパラメータを生成\n",
    "theta0 = np.random.beta(1.0, 6.5, seg_u*seg_i).reshape((seg_u, seg_i))"
   ]
  },
  {
   "cell_type": "code",
   "execution_count": 188,
   "metadata": {},
   "outputs": [
    {
     "name": "stdout",
     "output_type": "stream",
     "text": [
      "0\n",
      "1\n",
      "2\n",
      "3\n",
      "4\n",
      "5\n",
      "6\n",
      "7\n"
     ]
    }
   ],
   "source": [
    "##ベルヌーイ分布から観測行列を生成\n",
    "Data = np.zeros((N, K))\n",
    "for i in range(seg_u):\n",
    "    print(i)\n",
    "    index_z01 = ((z01_vec==i) + 0) * range(1, N+1)\n",
    "    a = index_z01[index_z01!=0]-1\n",
    "    \n",
    "    for j in range(seg_i):\n",
    "        n = z1_cnt[i] * z2_cnt[j]\n",
    "        index_z02 = ((z02_vec==j) + 0) * range(1, K+1)\n",
    "        b = index_z02[index_z02!=0]-1\n",
    "        y = np.random.binomial(1, theta0[i, j], n).reshape((z1_cnt[i], z2_cnt[j]))\n",
    "        \n",
    "        for k in range(z2_cnt[j]):\n",
    "            Data[z01_vec==i, b[k]] = y[:, k]"
   ]
  },
  {
   "cell_type": "code",
   "execution_count": 187,
   "metadata": {},
   "outputs": [
    {
     "data": {
      "text/plain": [
       "array([ True, False, False, ..., False, False, False])"
      ]
     },
     "execution_count": 187,
     "metadata": {},
     "output_type": "execute_result"
    }
   ],
   "source": []
  },
  {
   "cell_type": "code",
   "execution_count": 173,
   "metadata": {},
   "outputs": [
    {
     "data": {
      "text/plain": [
       "316232"
      ]
     },
     "execution_count": 173,
     "metadata": {},
     "output_type": "execute_result"
    }
   ],
   "source": []
  },
  {
   "cell_type": "code",
   "execution_count": 116,
   "metadata": {},
   "outputs": [
    {
     "ename": "IndexError",
     "evalue": "shape mismatch: indexing arrays could not be broadcast together with shapes (680,) (333,) ",
     "output_type": "error",
     "traceback": [
      "\u001b[1;31m---------------------------------------------------------------------------\u001b[0m",
      "\u001b[1;31mIndexError\u001b[0m                                Traceback (most recent call last)",
      "\u001b[1;32m<ipython-input-116-1737a2a462dc>\u001b[0m in \u001b[0;36m<module>\u001b[1;34m()\u001b[0m\n\u001b[1;32m----> 1\u001b[1;33m \u001b[0mData\u001b[0m\u001b[1;33m[\u001b[0m\u001b[0mtuple\u001b[0m\u001b[1;33m(\u001b[0m\u001b[0mindex_z01\u001b[0m\u001b[1;33m[\u001b[0m\u001b[0mindex_z01\u001b[0m\u001b[1;33m!=\u001b[0m\u001b[1;36m0\u001b[0m\u001b[1;33m]\u001b[0m\u001b[1;33m)\u001b[0m\u001b[1;33m,\u001b[0m \u001b[0mtuple\u001b[0m\u001b[1;33m(\u001b[0m\u001b[0mindex_z02\u001b[0m\u001b[1;33m[\u001b[0m\u001b[0mindex_z02\u001b[0m\u001b[1;33m!=\u001b[0m\u001b[1;36m0\u001b[0m\u001b[1;33m]\u001b[0m\u001b[1;33m)\u001b[0m\u001b[1;33m]\u001b[0m\u001b[1;33m\u001b[0m\u001b[0m\n\u001b[0m",
      "\u001b[1;31mIndexError\u001b[0m: shape mismatch: indexing arrays could not be broadcast together with shapes (680,) (333,) "
     ]
    }
   ],
   "source": [
    "Data[0, 0]"
   ]
  },
  {
   "cell_type": "code",
   "execution_count": 121,
   "metadata": {},
   "outputs": [],
   "source": [
    "\n"
   ]
  },
  {
   "cell_type": "code",
   "execution_count": 145,
   "metadata": {},
   "outputs": [
    {
     "data": {
      "text/plain": [
       "array([False, False, False, ..., False, False, False])"
      ]
     },
     "execution_count": 145,
     "metadata": {},
     "output_type": "execute_result"
    }
   ],
   "source": []
  },
  {
   "cell_type": "code",
   "execution_count": 135,
   "metadata": {},
   "outputs": [],
   "source": [
    "Data[a, :] = 1"
   ]
  },
  {
   "cell_type": "code",
   "execution_count": 137,
   "metadata": {},
   "outputs": [
    {
     "data": {
      "text/plain": [
       "array([[1., 1., 1., ..., 1., 1., 1.],\n",
       "       [1., 1., 1., ..., 1., 1., 1.],\n",
       "       [1., 1., 1., ..., 1., 1., 1.],\n",
       "       ...,\n",
       "       [1., 1., 1., ..., 1., 1., 1.],\n",
       "       [1., 1., 1., ..., 1., 1., 1.],\n",
       "       [1., 1., 1., ..., 1., 1., 1.]])"
      ]
     },
     "execution_count": 137,
     "metadata": {},
     "output_type": "execute_result"
    }
   ],
   "source": [
    "Data[a, :]"
   ]
  },
  {
   "cell_type": "code",
   "execution_count": null,
   "metadata": {},
   "outputs": [],
   "source": []
  }
 ],
 "metadata": {
  "kernelspec": {
   "display_name": "Python 3",
   "language": "python",
   "name": "python3"
  },
  "language_info": {
   "codemirror_mode": {
    "name": "ipython",
    "version": 3
   },
   "file_extension": ".py",
   "mimetype": "text/x-python",
   "name": "python",
   "nbconvert_exporter": "python",
   "pygments_lexer": "ipython3",
   "version": "3.6.4"
  }
 },
 "nbformat": 4,
 "nbformat_minor": 2
}
