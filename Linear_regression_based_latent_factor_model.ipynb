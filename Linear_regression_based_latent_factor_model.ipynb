{
 "cells": [
  {
   "cell_type": "code",
   "execution_count": 110,
   "metadata": {},
   "outputs": [],
   "source": [
    "#####線形回帰ベース潜在因子モデル#####\n",
    "##ライブラリの読み込み\n",
    "import numpy as np\n",
    "import pandas as pd\n",
    "import matplotlib.pyplot  as plt\n",
    "import numpy.matlib\n",
    "import scipy\n",
    "import scipy.stats as ss\n",
    "from numpy.random import random\n",
    "from scipy import optimize\n",
    "from scipy.stats import norm"
   ]
  },
  {
   "cell_type": "code",
   "execution_count": 167,
   "metadata": {},
   "outputs": [],
   "source": [
    "####任意の相関行列(分散共分散行列)を作成する関数####\n",
    "##任意の相関行列を作る関数\n",
    "def CorM(col, lower, upper, eigen_lower, eigen_upper):\n",
    "    #相関行列の初期値を定義する\n",
    "    cov_vec = (upper - lower) * np.random.rand(col*col) + lower   #相関係数の乱数ベクトルを作成\n",
    "    rho = np.reshape(np.array(cov_vec), (col, col)) * np.tri(col)   #乱数ベクトルを下三角行列化\n",
    "    Sigma = np.diag(np.diag(rho + rho.T) + 1) - (rho + rho.T)   #対角成分を1にする\n",
    "    \n",
    "    #相関行列を正定値行列に変更\n",
    "    #固有値分解を実行\n",
    "    eigen = scipy.linalg.eigh(Sigma)\n",
    "    eigen_val = eigen[0] \n",
    "    eigen_vec = eigen[1]\n",
    "    \n",
    "    #固有値が負の数値を正にする\n",
    "    for i in range(eigen_val.shape[0]-1):\n",
    "        if eigen_val[i] < 0:\n",
    "            eigen_val[i] = (eigen_upper - eigen_lower) * np.random.rand(1) + eigen_lower\n",
    "            \n",
    "    #新しい相関行列の定義と対角成分を1にする\n",
    "    Sigma = np.dot(np.dot(eigen_vec, np.diag(eigen_val)), eigen_vec.T)\n",
    "    normalization_factor = np.dot(pow(np.diag(Sigma), 0.5)[:, np.newaxis], pow(np.diag(Sigma), 0.5)[np.newaxis, :])\n",
    "    Cor = Sigma / normalization_factor\n",
    "    return Cor\n",
    "\n",
    "##相関行列から分散共分散行列に変換する関数\n",
    "def covmatrix(Cor, sigma_lower, sigma_upper):\n",
    "    sigma = (sigma_upper - sigma_lower) * np.random.rand(np.diag(Cor).shape[0]) + sigma_lower\n",
    "    sigma_factor = np.dot(sigma[:, np.newaxis], sigma[np.newaxis, :])\n",
    "    Cov = Cor * sigma_factor\n",
    "    return Cov"
   ]
  },
  {
   "cell_type": "code",
   "execution_count": 168,
   "metadata": {},
   "outputs": [],
   "source": [
    "####データの発生####\n",
    "##データの設定\n",
    "k = 10   #基底数\n",
    "hh = 5000   #ユーザー数\n",
    "item = 2000   #アイテム数\n",
    "\n",
    "##IDの設定\n",
    "user_id0 = np.repeat(range(hh), item)\n",
    "item_id0 = np.tile((np.array(range(item))), hh)"
   ]
  },
  {
   "cell_type": "code",
   "execution_count": 169,
   "metadata": {},
   "outputs": [],
   "source": [
    "##説明変数の生成\n",
    "##素性ベクトルを生成\n",
    "k1 = 2; k2 = 3; k3 = 4\n",
    "x1 = np.array(np.random.random(hh*item*k1)).reshape((hh*item, k1))\n",
    "x2 = np.zeros((hh*item, k2))\n",
    "for j in range(k2):\n",
    "    prob = np.random.uniform(0.25, 0.55, 1)\n",
    "    x2[:, j] = np.random.binomial(1, prob, hh*item)\n",
    "x3 = np.random.multinomial(1, np.random.dirichlet(np.repeat(3.0, k3), 1).reshape(k3), hh*item)\n",
    "x3 = np.delete(x3, np.argmin(np.sum(x3, axis=0)), axis=1)   #冗長な変数の削除\n",
    "x0 = np.concatenate((np.repeat(1, hh*item)[:, np.newaxis], x1, x2, x3), axis=1)"
   ]
  },
  {
   "cell_type": "code",
   "execution_count": 170,
   "metadata": {},
   "outputs": [],
   "source": [
    "##階層モデルの説明変数を生成\n",
    "#ユーザーの説明変数を生成\n",
    "k1 = 1; k2 = 3; k3 = 5\n",
    "u1 = np.array(np.random.random(hh*k1)).reshape((hh, k1))\n",
    "u2 = np.zeros((hh, k2))\n",
    "for j in range(k2):\n",
    "    prob = np.random.uniform(0.25, 0.55, 1)\n",
    "    u2[:, j] = np.random.binomial(1, prob, hh)\n",
    "u3 = np.random.multinomial(1, np.random.dirichlet(np.repeat(3.0, k3), 1).reshape(k3), hh)\n",
    "u3 = np.delete(u3, np.argmin(np.sum(u3, axis=0)), axis=1)   #冗長な変数の削除\n",
    "u = np.concatenate((np.repeat(1, hh)[:, np.newaxis], u1, u2, u3), axis=1)\n",
    "\n",
    "#アイテムの説明変数を生成\n",
    "k1 = 2; k2 = 3; k3 = 4\n",
    "v1 = np.array(np.random.random(item*k1)).reshape((item, k1))\n",
    "v2 = np.zeros((item, k2))\n",
    "for j in range(k2):\n",
    "    prob = np.random.uniform(0.25, 0.55, 1)\n",
    "    v2[:, j] = np.random.binomial(1, prob, item)\n",
    "v3 = np.random.multinomial(1, np.random.dirichlet(np.repeat(3.0, k3), 1).reshape(k3), item)\n",
    "v3 = np.delete(v3, np.argmin(np.sum(v3, axis=0)), axis=1)   #冗長な変数の削除\n",
    "v = np.concatenate((np.repeat(1, item)[:, np.newaxis], v1, v2, v3), axis=1)"
   ]
  },
  {
   "cell_type": "code",
   "execution_count": 171,
   "metadata": {},
   "outputs": [],
   "source": [
    "####妥当な応答変数が生成されるまで繰り返す####\n",
    "while True:\n",
    "    ##素性ベクトルの回帰係数を生成\n",
    "    beta = np.repeat(0.0, x.shape[1])\n",
    "    for j in range(x.shape[1]):\n",
    "        beta[j] = np.random.uniform(-0.6, 1.6, 1)\n",
    "    betat = beta\n",
    "\n",
    "    ##階層モデルのパラメータw\n",
    "    ##ユーザーベースの階層モデルのパラメータ\n",
    "    #分散共分散行列を設定\n",
    "    sigma_ut = sigma_u = 0.4\n",
    "    Cov_ut = Cov_u = covmatrix(CorM(k, -0.6, 0.8, 0.05, 0.2), 0.0025, 0.25)\n",
    "\n",
    "    #回帰係数を設定\n",
    "    alpha_u = np.zeros((u.shape[1], k+1))\n",
    "    for j in range(u.shape[1]):\n",
    "        if j==1:\n",
    "            alpha_u[j, :] = np.random.uniform(-0.55, 1.3, k+1)\n",
    "        else:\n",
    "            alpha_u[j, :] = np.random.uniform(-0.4, 0.5, k+1)\n",
    "    alpha_ut = alpha_u\n",
    "\n",
    "    #多変量回帰モデルからユーザー個別の回帰パラメータを生成\n",
    "    er = np.concatenate((np.random.normal(0, sigma_u, hh).reshape(hh, 1), \n",
    "                         numpy.random.multivariate_normal(np.repeat(0, k), Cov_u, hh)), axis=1)\n",
    "    theta_u = np.dot(u, alpha_u) + er\n",
    "    theta_ut1 = theta_u1 = theta_u[:, 0]   #ランダム効果のパラメータ\n",
    "    theta_ut2 = theta_u2 = pd.DataFrame(np.delete(theta_u, 0, 1))   #行列分解のパラメータ\n",
    "\n",
    "    ##アイテムベースの階層モデルのパラメータ\n",
    "    #分散共分散行列を設定\n",
    "    sigma_vt = sigma_v = 0.4\n",
    "    Cov_vt = Cov_v = covmatrix(CorM(k, -0.6, 0.8, 0.05, 0.2), 0.0025, 0.25)\n",
    "\n",
    "    #回帰係数を設定\n",
    "    alpha_v = np.zeros((v.shape[1], k+1))\n",
    "    for j in range(v.shape[1]):\n",
    "        if j==1:\n",
    "            alpha_v[j, :] = np.random.uniform(-0.55, 1.3, k+1)\n",
    "        else:\n",
    "            alpha_v[j, :] = np.random.uniform(-0.4, 0.5, k+1)\n",
    "    alpha_vt = alpha_v\n",
    "\n",
    "    #多変量回帰モデルからユーザー個別の回帰パラメータを生成\n",
    "    er = np.concatenate((np.random.normal(0, sigma_v, item).reshape(item, 1), \n",
    "                         numpy.random.multivariate_normal(np.repeat(0, k), Cov_v, item)), axis=1)\n",
    "    theta_v = np.dot(v, alpha_v) + er\n",
    "    theta_vt1 = theta_v1 = theta_v[:, 0]   #ランダム効果のパラメータ\n",
    "    theta_vt2 = theta_v2 = pd.DataFrame(np.delete(theta_v, 0, 1))   #行列分解のパラメータ\n",
    "\n",
    "    ##LRBLFモデルの応答変数を生成\n",
    "    #モデルの観測誤差\n",
    "    sigmat = sigma = 0.75\n",
    "\n",
    "    #モデルの平均構造から応答変数を生成\n",
    "    mu = np.dot(x0, beta) + theta_u1[user_id0] + theta_v1[item_id0] + np.dot(theta_u2, theta_v2.T).reshape(hh*item)\n",
    "    y0 = np.random.normal(mu, sigma, hh*item)\n",
    "\n",
    "    #応答変数のbreak条件\n",
    "    if np.mean(y0) > 4.5 and np.min(y0) < 6.5 and np.max(y0) < 17.5:\n",
    "        break"
   ]
  },
  {
   "cell_type": "code",
   "execution_count": 172,
   "metadata": {},
   "outputs": [],
   "source": [
    "#生成したスコアを評価データに変換\n",
    "y0[y0 < 1] = 1; y0[y0 > 10] = 10\n",
    "y0_vec = np.round(y0)"
   ]
  },
  {
   "cell_type": "code",
   "execution_count": 173,
   "metadata": {},
   "outputs": [],
   "source": [
    "##欠損ベクトルを生成\n",
    "#欠損有無のベータ分布のパラメータを設定\n",
    "beta1 = np.random.beta(8.5, 10.0, hh)   #ユーザーの購買確率\n",
    "beta2 = np.random.beta(6.5, 8.0, item)   #アイテムの購買確率\n",
    "\n",
    "#欠損がある購買データを作成\n",
    "Z = np.zeros((hh, item))\n",
    "for j in range(item):\n",
    "    deficit = np.random.binomial(1, beta1 * beta2[j], hh)\n",
    "    Z[:, j] = deficit   #欠損を代入"
   ]
  },
  {
   "cell_type": "code",
   "execution_count": 174,
   "metadata": {},
   "outputs": [
    {
     "data": {
      "text/plain": [
       "(array([ 52582.,      0., 151693.,      0., 330461.,      0., 481315.,\n",
       "             0., 479887.,      0.,      0., 333988.,      0., 161768.,\n",
       "             0.,  54798.,      0.,  12331.,      0.,   2264.]),\n",
       " array([ 1.  ,  1.45,  1.9 ,  2.35,  2.8 ,  3.25,  3.7 ,  4.15,  4.6 ,\n",
       "         5.05,  5.5 ,  5.95,  6.4 ,  6.85,  7.3 ,  7.75,  8.2 ,  8.65,\n",
       "         9.1 ,  9.55, 10.  ]),\n",
       " <a list of 20 Patch objects>)"
      ]
     },
     "execution_count": 174,
     "metadata": {},
     "output_type": "execute_result"
    },
    {
     "data": {
      "image/png": "[encoded data removed]",
      "text/plain": [
       "<matplotlib.figure.Figure at 0x1fa31064860>"
      ]
     },
     "metadata": {},
     "output_type": "display_data"
    }
   ],
   "source": [
    "#欠損インデックス\n",
    "z_vec = Z.reshape(hh*item)\n",
    "index_z1 = (z_vec==1).nonzero(); index_z1 = np.array(index_z1).reshape(len(index_z1[0]))\n",
    "index_z0 = (z_vec==0).nonzero(); index_z0 = np.array(index_z0).reshape(len(index_z0[0]))\n",
    "N = index_z1.shape[0]\n",
    "\n",
    "#欠損ベクトルに応じてデータを抽出\n",
    "user_id = user_id0[index_z1]\n",
    "item_id = item_id0[index_z1]\n",
    "x = x0[index_z1, :]\n",
    "y = y0_vec[index_z1]\n",
    "n1 = pd.DataFrame(user_id)[0].value_counts(sort=False); n1 = np.array(n1.sort_index())\n",
    "n2 = pd.DataFrame(item_id)[0].value_counts(sort=False); n2 = np.array(n2.sort_index())\n",
    "\n",
    "#生成した応答変数のヒストグラム\n",
    "plt.hist(y0, bins=20)\n",
    "plt.hist(y0_vec, bins=20)\n",
    "plt.hist(y, bins=20)"
   ]
  },
  {
   "cell_type": "code",
   "execution_count": 198,
   "metadata": {},
   "outputs": [],
   "source": [
    "####モンテカルロEMアルゴリズムでLRBLFモデルを推定####\n",
    "##アルゴリズムの設定\n",
    "LL1 = -1000000000   #対数尤度の初期値\n",
    "tol = 0.25\n",
    "iter = 1\n",
    "dl = 100\n",
    "L = 300   #モンテカルロサンプリング数\n",
    "\n",
    "##初期値の設定\n",
    "#モデルパラメータの設定\n",
    "beta = np.repeat(0, x.shape[1])\n",
    "beta_mu = np.dot(x, beta)\n",
    "sigma = 0.5\n",
    "\n",
    "#ユーザーベースのパラメータの初期値\n",
    "sigma_u = 0.2\n",
    "Cov_u = 0.1 * np.identity(k)\n",
    "inv_Cov_u = numpy.linalg.inv(Cov_u)\n",
    "alpha_u = np.zeros((u.shape[1], k+1))\n",
    "theta_mu1 = np.dot(u, alpha_u)\n",
    "theta_u1 = theta_mu11 = theta_mu1[:, 1]\n",
    "theta_mu12 = np.delete(theta_mu1, 0, 1)\n",
    "theta_u2 = theta_mu12 + numpy.random.multivariate_normal(np.repeat(0, k), Cov_u, hh)\n",
    "\n",
    "#アイテムベースのパラメータの初期値\n",
    "sigma_v = 0.2\n",
    "Cov_v = 0.1 * np.identity(k)\n",
    "inv_Cov_v = numpy.linalg.inv(Cov_v)\n",
    "alpha_v = np.zeros((v.shape[1], k+1))\n",
    "theta_mu2 = np.dot(v, alpha_v)\n",
    "theta_v1 = theta_mu21 = theta_mu2[:, 1]\n",
    "theta_mu22 = np.delete(theta_mu2, 0, 1)\n",
    "theta_v2 = theta_mu22 + numpy.random.multivariate_normal(np.repeat(0, k), Cov_v, item)\n",
    "\n",
    "#行列分解の初期値\n",
    "uv = (np.dot(theta_u2, theta_v2.T).reshape(hh*item))[index_z1]"
   ]
  },
  {
   "cell_type": "code",
   "execution_count": 201,
   "metadata": {},
   "outputs": [],
   "source": [
    "##パラメータの真値\n",
    "#モデルパラメータの設定\n",
    "beta = betat\n",
    "beta_mu = np.dot(x, beta)\n",
    "sigma = sigmat\n",
    "\n",
    "#ユーザーベースのパラメータの初期値\n",
    "sigma_u = sigma_ut\n",
    "Cov_u = Cov_ut\n",
    "inv_Cov_u = numpy.linalg.inv(Cov_u)\n",
    "alpha_u = alpha_ut\n",
    "theta_mu1 = np.dot(u, alpha_u)\n",
    "theta_u1 = theta_mu11 = theta_ut1\n",
    "theta_mu12 = np.delete(theta_mu1, 0, 1)\n",
    "theta_u2 = theta_ut2\n",
    "\n",
    "#アイテムベースのパラメータの初期値\n",
    "sigma_v = sigma_vt\n",
    "Cov_v = Cov_vt\n",
    "inv_Cov_v = numpy.linalg.inv(Cov_v)\n",
    "alpha_v = alpha_vt\n",
    "theta_mu2 = np.dot(v, alpha_v)\n",
    "theta_v1 = theta_mu21 = theta_vt1\n",
    "theta_mu22 = np.delete(theta_mu2, 0, 1)\n",
    "theta_v2 = theta_vt2\n",
    "\n",
    "#行列分解の初期値\n",
    "uv = (np.dot(theta_ut2, theta_vt2.T).reshape(hh*item))[index_z1]"
   ]
  },
  {
   "cell_type": "code",
   "execution_count": null,
   "metadata": {},
   "outputs": [],
   "source": [
    "##データの設定\n",
    "#インデックスの作成\n",
    "index = np.array(range(y.shape[0]))\n",
    "user_list = [i for i in range(hh)]\n",
    "item_list = [j for j in range(item)]\n",
    "for i in range(hh):\n",
    "    user_list[i] = index[user_id==i]\n",
    "for j in range(item):\n",
    "    item_list[j] = index[item_id==j]\n",
    "    \n",
    "#定数を設定\n",
    "inv_xx = numpy.linalg.inv(np.dot(x.T, x))\n",
    "inv_uu = numpy.linalg.inv(np.dot(u.T, u))\n",
    "inv_vv = numpy.linalg.inv(np.dot(v.T, v))"
   ]
  },
  {
   "cell_type": "code",
   "execution_count": 224,
   "metadata": {},
   "outputs": [
    {
     "name": "stdout",
     "output_type": "stream",
     "text": [
      "[-2470519.10207978 -3902269.29149501]\n"
     ]
    }
   ],
   "source": [
    "##対数尤度の初期値\n",
    "Mu = beta_mu + theta_u1[user_id] + theta_v1[item_id] + uv\n",
    "LL = np.sum(scipy.stats.norm.logpdf(y, Mu, sigma))\n",
    "LLst = np.sum(scipy.stats.norm.logpdf(y, np.mean(y), np.sqrt(np.var(y))))   #対数尤度の基準値\n",
    "print(np.array([LL, LLst]))"
   ]
  },
  {
   "cell_type": "code",
   "execution_count": 228,
   "metadata": {},
   "outputs": [],
   "source": [
    "####モンテカルロEMアルゴリズムでパラメータを推定####\n",
    "\n",
    "###モンテカルロEステップで潜在変数をサンプリング\n",
    "##ユーザーのランダム効果をサンプリング\n",
    "#データの設定\n",
    "u_er = y - beta_mu - theta_v1[item_id] - uv   #ユーザーのランダム効果の誤差\n",
    "\n",
    "#事後分布のパラメータを設定\n",
    "u_mu = np.repeat(0, hh)\n",
    "for i in range(hh):\n",
    "    u_mu[i] = np.mean(u_er[user_list[0]])"
   ]
  },
  {
   "cell_type": "code",
   "execution_count": 226,
   "metadata": {},
   "outputs": [
    {
     "data": {
      "text/plain": [
       "array([258, 259, 260, 261, 262, 263, 264, 265, 266, 267, 268, 269, 270,\n",
       "       271, 272, 273, 274, 275, 276, 277, 278, 279, 280, 281, 282, 283,\n",
       "       284, 285, 286, 287, 288, 289, 290, 291, 292, 293, 294, 295, 296,\n",
       "       297, 298, 299, 300, 301, 302, 303, 304, 305, 306, 307, 308, 309,\n",
       "       310, 311, 312, 313, 314, 315, 316, 317, 318, 319, 320, 321, 322,\n",
       "       323, 324, 325, 326, 327, 328, 329, 330, 331, 332, 333, 334, 335,\n",
       "       336, 337, 338, 339, 340, 341, 342, 343, 344, 345, 346, 347, 348,\n",
       "       349, 350, 351, 352, 353, 354, 355, 356, 357, 358, 359, 360, 361,\n",
       "       362, 363, 364, 365, 366, 367, 368, 369, 370, 371, 372, 373, 374,\n",
       "       375, 376, 377, 378, 379, 380, 381, 382, 383, 384, 385, 386, 387,\n",
       "       388, 389, 390, 391, 392, 393, 394, 395, 396, 397, 398, 399, 400,\n",
       "       401, 402, 403, 404, 405, 406, 407, 408, 409, 410, 411, 412, 413,\n",
       "       414, 415, 416, 417, 418, 419, 420, 421, 422, 423, 424, 425, 426,\n",
       "       427, 428, 429, 430, 431, 432, 433, 434, 435, 436, 437, 438, 439,\n",
       "       440, 441, 442, 443, 444, 445, 446, 447, 448, 449, 450, 451, 452,\n",
       "       453, 454, 455, 456, 457, 458, 459, 460, 461, 462, 463, 464, 465,\n",
       "       466, 467, 468, 469, 470, 471, 472, 473, 474, 475, 476, 477, 478,\n",
       "       479, 480, 481, 482, 483, 484, 485, 486, 487, 488, 489, 490, 491,\n",
       "       492, 493, 494, 495, 496, 497, 498, 499, 500, 501, 502, 503, 504,\n",
       "       505, 506, 507, 508, 509, 510, 511, 512, 513, 514, 515, 516, 517,\n",
       "       518, 519, 520, 521, 522, 523, 524, 525, 526, 527, 528, 529, 530,\n",
       "       531, 532, 533, 534, 535, 536, 537, 538, 539, 540, 541, 542, 543,\n",
       "       544, 545, 546, 547, 548, 549, 550, 551, 552, 553, 554, 555, 556,\n",
       "       557, 558, 559, 560, 561, 562, 563, 564, 565, 566, 567, 568, 569,\n",
       "       570, 571, 572, 573, 574, 575, 576, 577, 578, 579, 580, 581, 582,\n",
       "       583, 584, 585, 586, 587, 588, 589, 590, 591, 592, 593, 594, 595,\n",
       "       596, 597, 598, 599, 600, 601, 602, 603, 604, 605, 606, 607, 608,\n",
       "       609, 610, 611, 612, 613, 614, 615, 616, 617, 618, 619, 620, 621,\n",
       "       622, 623, 624, 625, 626, 627, 628, 629, 630, 631, 632, 633, 634,\n",
       "       635, 636, 637, 638, 639, 640, 641, 642, 643, 644, 645, 646, 647,\n",
       "       648, 649, 650, 651, 652, 653, 654, 655, 656, 657, 658, 659, 660,\n",
       "       661, 662, 663, 664, 665, 666, 667, 668, 669, 670, 671, 672, 673,\n",
       "       674, 675, 676, 677])"
      ]
     },
     "execution_count": 226,
     "metadata": {},
     "output_type": "execute_result"
    }
   ],
   "source": [
    "user_list[1]"
   ]
  },
  {
   "cell_type": "code",
   "execution_count": null,
   "metadata": {},
   "outputs": [],
   "source": []
  }
 ],
 "metadata": {
  "kernelspec": {
   "display_name": "Python 3",
   "language": "python",
   "name": "python3"
  },
  "language_info": {
   "codemirror_mode": {
    "name": "ipython",
    "version": 3
   },
   "file_extension": ".py",
   "mimetype": "text/x-python",
   "name": "python",
   "nbconvert_exporter": "python",
   "pygments_lexer": "ipython3",
   "version": "3.6.4"
  }
 },
 "nbformat": 4,
 "nbformat_minor": 2
}
